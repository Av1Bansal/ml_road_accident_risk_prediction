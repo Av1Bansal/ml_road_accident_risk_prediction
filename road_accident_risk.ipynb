{
 "cells": [
  {
   "cell_type": "code",
   "execution_count": null,
   "id": "fbbfad96",
   "metadata": {},
   "outputs": [],
   "source": [
    "import numpy as np\n",
    "import pandas as pd"
   ]
  },
  {
   "cell_type": "code",
   "execution_count": null,
   "id": "195c8b0f",
   "metadata": {},
   "outputs": [],
   "source": [
    "train_df = pd.read_csv(r\"D:\\kaggle datasets\\playground s5ep10\\playground-series-s5e10\\train.csv\")\n",
    "test_df = pd.read_csv(r\"D:\\kaggle datasets\\playground s5ep10\\playground-series-s5e10\\test.csv\")"
   ]
  },
  {
   "cell_type": "code",
   "execution_count": null,
   "id": "84862ff7",
   "metadata": {},
   "outputs": [],
   "source": [
    "test_df.head(10)"
   ]
  },
  {
   "cell_type": "code",
   "execution_count": null,
   "id": "c165dc60",
   "metadata": {},
   "outputs": [],
   "source": [
    "y = train_df['accident_risk']\n",
    "x = train_df.drop(columns=['accident_risk','id'])\n",
    "x_test = test_df.drop(columns=['id'])"
   ]
  },
  {
   "cell_type": "code",
   "execution_count": null,
   "id": "3d745e6a",
   "metadata": {},
   "outputs": [],
   "source": [
    "combined_df = pd.concat([x,x_test],axis=0)"
   ]
  },
  {
   "cell_type": "code",
   "execution_count": null,
   "id": "4ce6f62c",
   "metadata": {},
   "outputs": [],
   "source": [
    "# boolean encodeing\n",
    "bool_cols = combined_df.select_dtypes(include=['bool']).columns\n",
    "combined_df[bool_cols] = combined_df[bool_cols].astype(int)\n",
    "\n",
    "# ordinal(ordered) encoding\n",
    "lighting_mapping = {'night':0,'dim':1,'daylight':2}\n",
    "combined_df['lighting'] = combined_df['lighting'].map(lighting_mapping)\n",
    "\n",
    "time_of_day_mapping = {'morning':0,'afternoon':1,'evening':2}\n",
    "combined_df['time_of_day'] = combined_df['time_of_day'].map(time_of_day_mapping)\n",
    "\n",
    "#nominal(unordered) one hot encoding\n",
    "nominal_cols = ['road_type','weather']\n",
    "combined_df = pd.get_dummies(combined_df,columns=nominal_cols,drop_first=True)\n",
    "\n",
    "x = combined_df.iloc[:len(x),:]\n",
    "x_test = combined_df.iloc[len(x):,:]\n"
   ]
  },
  {
   "cell_type": "code",
   "execution_count": null,
   "id": "24cfbe23",
   "metadata": {},
   "outputs": [],
   "source": [
    "from sklearn.model_selection import train_test_split, RandomizedSearchCV\n",
    "from xgboost import XGBRegressor\n",
    "from lightgbm import LGBMRegressor\n",
    "from catboost import CatBoostRegressor\n",
    "from sklearn.linear_model import LinearRegression\n",
    "from sklearn.metrics import mean_squared_error\n",
    "\n",
    "#data split\n",
    "x_train, x_val, y_train, y_val = train_test_split(x, y, test_size=0.2, random_state=42)\n",
    "\n",
    "#parameters\n",
    "xgb_param_dist = {\n",
    "    'n_estimators': [300, 500, 700, 900],\n",
    "    'learning_rate': np.linspace(0.01, 0.1, 10),\n",
    "    'max_depth': [4, 5, 6, 7, 8],\n",
    "    'min_child_weight': [1, 3, 5, 7],\n",
    "    'subsample': np.linspace(0.6, 1.0, 5),\n",
    "    'colsample_bytree': np.linspace(0.6, 1.0, 5),\n",
    "    'reg_lambda': [0.5, 1, 1.5, 2]\n",
    "}\n",
    "\n",
    "lgb_param_dist = {\n",
    "    'n_estimators': [500, 700, 900, 1100],\n",
    "    'learning_rate': np.linspace(0.01, 0.1, 10),\n",
    "    'max_depth': [6, 8, 9, 10, -1],\n",
    "    'num_leaves': [31, 63, 127, 255],\n",
    "    'subsample': np.linspace(0.6, 1.0, 5),\n",
    "    'colsample_bytree': np.linspace(0.6, 1.0, 5),\n",
    "    'reg_lambda': [0.1, 0.5, 1.0, 1.5],\n",
    "    'reg_alpha': [0.0, 0.1, 0.5, 1.0]\n",
    "}\n",
    "\n",
    "cat_param_dist = {\n",
    "    'n_estimators': [500, 700, 900, 1100],\n",
    "    'learning_rate': np.linspace(0.01, 0.1, 10),\n",
    "    'depth': [4, 6, 8, 10],\n",
    "    'l2_leaf_reg': [1, 3, 5, 7],\n",
    "    'bagging_temperature': np.linspace(0.0, 1.0, 5),\n",
    "    'border_count': [32, 64, 128, 254]\n",
    "}\n",
    "\n",
    "#Randomized Search Function\n",
    "def tune_model(model, param_dist, name):\n",
    "    random_search = RandomizedSearchCV(\n",
    "        estimator=model,\n",
    "        param_distributions=param_dist,\n",
    "        n_iter=30, \n",
    "        scoring='neg_root_mean_squared_error',\n",
    "        cv=3,\n",
    "        verbose=1,\n",
    "        random_state=42,\n",
    "        n_jobs=-1\n",
    "    )\n",
    "    random_search.fit(x_train, y_train)\n",
    "    print(f\"\\n Best Parameters for {name}:\")\n",
    "    print(random_search.best_params_)\n",
    "    print(f\"Best CV RMSE: {-random_search.best_score_:.4f}\\n\")\n",
    "    return random_search.best_params_\n",
    "\n",
    "#Tuning\n",
    "best_xgb_params = tune_model(XGBRegressor(), xgb_param_dist, \"XGBoost\")\n",
    "best_lgb_params = tune_model(LGBMRegressor(), lgb_param_dist, \"LightGBM\")\n",
    "best_cat_params = tune_model(CatBoostRegressor(verbose=0), cat_param_dist, \"CatBoost\")"
   ]
  },
  {
   "cell_type": "code",
   "execution_count": 10,
   "id": "c086496e",
   "metadata": {},
   "outputs": [],
   "source": [
    "# XGBoost Model models\n",
    "xgb_model = XGBRegressor(n_estimators=500, \n",
    "    learning_rate=0.03, \n",
    "    max_depth=6, \n",
    "    min_child_weight=5,\n",
    "    subsample=0.7,\n",
    "    gamma=0,\n",
    "    reg_lambda=1.5,\n",
    "    colsample_bytree = 0.9)\n",
    "\n",
    "#LightGBM Model\n",
    "lgb_model = LGBMRegressor(n_estimators=889, \n",
    "    learning_rate=0.016, \n",
    "    max_depth=9,\n",
    "    num_leaves=130,\n",
    "    min_child_weight=1,\n",
    "    subsample=0.721,\n",
    "    gamma=0,\n",
    "    reg_lambda=1.11,\n",
    "    reg_alpha=0.46,\n",
    "    colsample_bytree = 0.99)\n",
    "\n",
    "#CatBoost Regression\n",
    "cat_model = CatBoostRegressor(n_estimators=1011,\n",
    "                              learning_rate=0.053, \n",
    "                              depth=8, \n",
    "                              l2_leaf_reg=2.53,\n",
    "                              bagging_temperature=0.144,\n",
    "                              border_count=121\n",
    "                               )\n",
    "\n",
    "# Fit individual models\n",
    "xgb_model.fit(x_train, y_train)\n",
    "lgb_model.fit(x_train, y_train)\n",
    "cat_model.fit(x_train, y_train)\n",
    "\n",
    "# Predict on validation\n",
    "xgb_pred = xgb_model.predict(x_val)\n",
    "lgb_pred = lgb_model.predict(x_val)\n",
    "cat_pred = cat_model.predict(x_val)\n",
    "\n",
    "# Stack predictions as features for meta-model\n",
    "stacked_features = np.column_stack((xgb_pred, lgb_pred, cat_pred))\n",
    "\n",
    "# Train meta-model (Linear Regression)\n",
    "meta_model = LinearRegression()\n",
    "meta_model.fit(stacked_features, y_val)\n",
    "\n",
    "# Make final ensemble predictions\n",
    "final_pred = meta_model.predict(stacked_features)\n",
    "\n",
    "# Evaluate\n",
    "rmse_ensemble = np.sqrt(mean_squared_error(y_val, final_pred))\n",
    "print(f\"Stacked Ensemble Validation RMSE: {rmse_ensemble:.4f}\")"
   ]
  },
  {
   "cell_type": "code",
   "execution_count": null,
   "id": "5929eee9",
   "metadata": {},
   "outputs": [],
   "source": [
    "joblib.dump(meta_model, \"model.pkl\")\n",
    "loaded_model = joblib.load(\"model.pkl\")\n",
    "pred = loaded_model.predict(x_test)\n",
    "print(pred)"
   ]
  },
  {
   "cell_type": "code",
   "execution_count": 14,
   "id": "03b88301",
   "metadata": {},
   "outputs": [],
   "source": [
    "submission_df = pd.DataFrame({\n",
    "    'id':test_df['id'],\n",
    "    'accident_risk': pred\n",
    "})\n",
    "file_path = r\"D:\\kaggle datasets\\playground s5ep10\\playground-series-s5e10\\my_submission5.csv\"\n",
    "submission_df.to_csv(file_path,index=False)"
   ]
  },
  {
   "cell_type": "code",
   "execution_count": null,
   "id": "758f6862",
   "metadata": {},
   "outputs": [],
   "source": []
  }
 ],
 "metadata": {
  "kernelspec": {
   "display_name": "Python (3.10) pytorch",
   "language": "python",
   "name": "python_3.10"
  },
  "language_info": {
   "codemirror_mode": {
    "name": "ipython",
    "version": 3
   },
   "file_extension": ".py",
   "mimetype": "text/x-python",
   "name": "python",
   "nbconvert_exporter": "python",
   "pygments_lexer": "ipython3",
   "version": "3.10.18"
  }
 },
 "nbformat": 4,
 "nbformat_minor": 5
}
